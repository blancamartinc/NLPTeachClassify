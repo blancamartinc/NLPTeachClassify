{
  "nbformat": 4,
  "nbformat_minor": 0,
  "metadata": {
    "colab": {
      "provenance": [],
      "machine_shape": "hm",
      "gpuType": "T4"
    },
    "kernelspec": {
      "name": "python3",
      "display_name": "Python 3"
    },
    "language_info": {
      "name": "python"
    },
    "accelerator": "GPU"
  },
  "cells": [
    {
      "cell_type": "code",
      "execution_count": 25,
      "metadata": {
        "id": "lJvZkHqnxzaH"
      },
      "outputs": [],
      "source": [
        "import torch\n",
        "from torch.utils.data import DataLoader, TensorDataset\n",
        "from transformers import BertForSequenceClassification, BertTokenizer\n",
        "from sklearn.model_selection import train_test_split\n",
        "from sklearn.metrics import classification_report\n",
        "import pandas as pd\n",
        "from torch.optim import AdamW\n",
        "import numpy as np\n",
        "import matplotlib.pyplot as plt"
      ]
    },
    {
      "cell_type": "code",
      "source": [
        "# Configurar dispositivo para GPU si está disponible\n",
        "device = torch.device('cuda:0' if torch.cuda.is_available() else 'cpu')\n",
        "print(f'Usando el dispositivo: {device}')"
      ],
      "metadata": {
        "colab": {
          "base_uri": "https://localhost:8080/"
        },
        "id": "e3j8EI7_ybJh",
        "outputId": "c6e2ff86-959d-4bb9-cba5-014efb14ef73"
      },
      "execution_count": 26,
      "outputs": [
        {
          "output_type": "stream",
          "name": "stdout",
          "text": [
            "Usando el dispositivo: cuda:0\n"
          ]
        }
      ]
    },
    {
      "cell_type": "code",
      "source": [
        "# Cargar el modelo y el tokenizador pre-entrenado\n",
        "model = BertForSequenceClassification.from_pretrained(\"dccuchile/bert-base-spanish-wwm-cased\", num_labels=7)  # 7 clases\n",
        "tokenizer = BertTokenizer.from_pretrained(\"dccuchile/bert-base-spanish-wwm-cased\", do_lower_case=False)"
      ],
      "metadata": {
        "colab": {
          "base_uri": "https://localhost:8080/"
        },
        "id": "tLNc-zeJybMA",
        "outputId": "ccca5628-5ee8-4066-eecd-cc43aa0cbc97"
      },
      "execution_count": 27,
      "outputs": [
        {
          "output_type": "stream",
          "name": "stderr",
          "text": [
            "Some weights of BertForSequenceClassification were not initialized from the model checkpoint at dccuchile/bert-base-spanish-wwm-cased and are newly initialized: ['bert.pooler.dense.bias', 'bert.pooler.dense.weight', 'classifier.bias', 'classifier.weight']\n",
            "You should probably TRAIN this model on a down-stream task to be able to use it for predictions and inference.\n"
          ]
        }
      ]
    },
    {
      "cell_type": "code",
      "source": [
        "# Mover el modelo a la GPU si está disponible\n",
        "model.to(device='cuda:0')"
      ],
      "metadata": {
        "colab": {
          "base_uri": "https://localhost:8080/"
        },
        "id": "mm4WbEUYybOf",
        "outputId": "83f80db7-31dd-42b3-e34b-60653388fe59"
      },
      "execution_count": 28,
      "outputs": [
        {
          "output_type": "execute_result",
          "data": {
            "text/plain": [
              "BertForSequenceClassification(\n",
              "  (bert): BertModel(\n",
              "    (embeddings): BertEmbeddings(\n",
              "      (word_embeddings): Embedding(31002, 768, padding_idx=1)\n",
              "      (position_embeddings): Embedding(512, 768)\n",
              "      (token_type_embeddings): Embedding(2, 768)\n",
              "      (LayerNorm): LayerNorm((768,), eps=1e-12, elementwise_affine=True)\n",
              "      (dropout): Dropout(p=0.1, inplace=False)\n",
              "    )\n",
              "    (encoder): BertEncoder(\n",
              "      (layer): ModuleList(\n",
              "        (0-11): 12 x BertLayer(\n",
              "          (attention): BertAttention(\n",
              "            (self): BertSdpaSelfAttention(\n",
              "              (query): Linear(in_features=768, out_features=768, bias=True)\n",
              "              (key): Linear(in_features=768, out_features=768, bias=True)\n",
              "              (value): Linear(in_features=768, out_features=768, bias=True)\n",
              "              (dropout): Dropout(p=0.1, inplace=False)\n",
              "            )\n",
              "            (output): BertSelfOutput(\n",
              "              (dense): Linear(in_features=768, out_features=768, bias=True)\n",
              "              (LayerNorm): LayerNorm((768,), eps=1e-12, elementwise_affine=True)\n",
              "              (dropout): Dropout(p=0.1, inplace=False)\n",
              "            )\n",
              "          )\n",
              "          (intermediate): BertIntermediate(\n",
              "            (dense): Linear(in_features=768, out_features=3072, bias=True)\n",
              "            (intermediate_act_fn): GELUActivation()\n",
              "          )\n",
              "          (output): BertOutput(\n",
              "            (dense): Linear(in_features=3072, out_features=768, bias=True)\n",
              "            (LayerNorm): LayerNorm((768,), eps=1e-12, elementwise_affine=True)\n",
              "            (dropout): Dropout(p=0.1, inplace=False)\n",
              "          )\n",
              "        )\n",
              "      )\n",
              "    )\n",
              "    (pooler): BertPooler(\n",
              "      (dense): Linear(in_features=768, out_features=768, bias=True)\n",
              "      (activation): Tanh()\n",
              "    )\n",
              "  )\n",
              "  (dropout): Dropout(p=0.1, inplace=False)\n",
              "  (classifier): Linear(in_features=768, out_features=7, bias=True)\n",
              ")"
            ]
          },
          "metadata": {},
          "execution_count": 28
        }
      ]
    },
    {
      "cell_type": "markdown",
      "source": [
        "PREPARACION DE LOS DATOS"
      ],
      "metadata": {
        "id": "gMoGWUM3yval"
      }
    },
    {
      "cell_type": "code",
      "source": [
        "# seleccionamos el arhchivo datos_editados_18.95.csv\n",
        "\n",
        "from google.colab import files\n",
        "\n",
        "# Cargar el archivo desde el sistema local\n",
        "uploaded = files.upload()\n",
        "\n",
        "# Obtener el nombre del archivo cargado\n",
        "file_name = list(uploaded.keys())[0]\n",
        "\n",
        "# Listar los archivos en el directorio actual\n",
        "!ls\n",
        "\n",
        "# Obtener la ruta del archivo en el sistema de archivos de Colab\n",
        "import os\n",
        "current_directory = os.getcwd()\n",
        "file_path = os.path.join(current_directory, file_name)\n",
        "print(\"Ruta del archivo:\", file_path)"
      ],
      "metadata": {
        "colab": {
          "base_uri": "https://localhost:8080/",
          "height": 106
        },
        "id": "O7fdX7wpybTa",
        "outputId": "0e665ed1-a08a-4edc-c338-eb7c4cdebca7"
      },
      "execution_count": 5,
      "outputs": [
        {
          "output_type": "display_data",
          "data": {
            "text/plain": [
              "<IPython.core.display.HTML object>"
            ],
            "text/html": [
              "\n",
              "     <input type=\"file\" id=\"files-5f436596-860e-4fc9-a68b-8782f7d06389\" name=\"files[]\" multiple disabled\n",
              "        style=\"border:none\" />\n",
              "     <output id=\"result-5f436596-860e-4fc9-a68b-8782f7d06389\">\n",
              "      Upload widget is only available when the cell has been executed in the\n",
              "      current browser session. Please rerun this cell to enable.\n",
              "      </output>\n",
              "      <script>// Copyright 2017 Google LLC\n",
              "//\n",
              "// Licensed under the Apache License, Version 2.0 (the \"License\");\n",
              "// you may not use this file except in compliance with the License.\n",
              "// You may obtain a copy of the License at\n",
              "//\n",
              "//      http://www.apache.org/licenses/LICENSE-2.0\n",
              "//\n",
              "// Unless required by applicable law or agreed to in writing, software\n",
              "// distributed under the License is distributed on an \"AS IS\" BASIS,\n",
              "// WITHOUT WARRANTIES OR CONDITIONS OF ANY KIND, either express or implied.\n",
              "// See the License for the specific language governing permissions and\n",
              "// limitations under the License.\n",
              "\n",
              "/**\n",
              " * @fileoverview Helpers for google.colab Python module.\n",
              " */\n",
              "(function(scope) {\n",
              "function span(text, styleAttributes = {}) {\n",
              "  const element = document.createElement('span');\n",
              "  element.textContent = text;\n",
              "  for (const key of Object.keys(styleAttributes)) {\n",
              "    element.style[key] = styleAttributes[key];\n",
              "  }\n",
              "  return element;\n",
              "}\n",
              "\n",
              "// Max number of bytes which will be uploaded at a time.\n",
              "const MAX_PAYLOAD_SIZE = 100 * 1024;\n",
              "\n",
              "function _uploadFiles(inputId, outputId) {\n",
              "  const steps = uploadFilesStep(inputId, outputId);\n",
              "  const outputElement = document.getElementById(outputId);\n",
              "  // Cache steps on the outputElement to make it available for the next call\n",
              "  // to uploadFilesContinue from Python.\n",
              "  outputElement.steps = steps;\n",
              "\n",
              "  return _uploadFilesContinue(outputId);\n",
              "}\n",
              "\n",
              "// This is roughly an async generator (not supported in the browser yet),\n",
              "// where there are multiple asynchronous steps and the Python side is going\n",
              "// to poll for completion of each step.\n",
              "// This uses a Promise to block the python side on completion of each step,\n",
              "// then passes the result of the previous step as the input to the next step.\n",
              "function _uploadFilesContinue(outputId) {\n",
              "  const outputElement = document.getElementById(outputId);\n",
              "  const steps = outputElement.steps;\n",
              "\n",
              "  const next = steps.next(outputElement.lastPromiseValue);\n",
              "  return Promise.resolve(next.value.promise).then((value) => {\n",
              "    // Cache the last promise value to make it available to the next\n",
              "    // step of the generator.\n",
              "    outputElement.lastPromiseValue = value;\n",
              "    return next.value.response;\n",
              "  });\n",
              "}\n",
              "\n",
              "/**\n",
              " * Generator function which is called between each async step of the upload\n",
              " * process.\n",
              " * @param {string} inputId Element ID of the input file picker element.\n",
              " * @param {string} outputId Element ID of the output display.\n",
              " * @return {!Iterable<!Object>} Iterable of next steps.\n",
              " */\n",
              "function* uploadFilesStep(inputId, outputId) {\n",
              "  const inputElement = document.getElementById(inputId);\n",
              "  inputElement.disabled = false;\n",
              "\n",
              "  const outputElement = document.getElementById(outputId);\n",
              "  outputElement.innerHTML = '';\n",
              "\n",
              "  const pickedPromise = new Promise((resolve) => {\n",
              "    inputElement.addEventListener('change', (e) => {\n",
              "      resolve(e.target.files);\n",
              "    });\n",
              "  });\n",
              "\n",
              "  const cancel = document.createElement('button');\n",
              "  inputElement.parentElement.appendChild(cancel);\n",
              "  cancel.textContent = 'Cancel upload';\n",
              "  const cancelPromise = new Promise((resolve) => {\n",
              "    cancel.onclick = () => {\n",
              "      resolve(null);\n",
              "    };\n",
              "  });\n",
              "\n",
              "  // Wait for the user to pick the files.\n",
              "  const files = yield {\n",
              "    promise: Promise.race([pickedPromise, cancelPromise]),\n",
              "    response: {\n",
              "      action: 'starting',\n",
              "    }\n",
              "  };\n",
              "\n",
              "  cancel.remove();\n",
              "\n",
              "  // Disable the input element since further picks are not allowed.\n",
              "  inputElement.disabled = true;\n",
              "\n",
              "  if (!files) {\n",
              "    return {\n",
              "      response: {\n",
              "        action: 'complete',\n",
              "      }\n",
              "    };\n",
              "  }\n",
              "\n",
              "  for (const file of files) {\n",
              "    const li = document.createElement('li');\n",
              "    li.append(span(file.name, {fontWeight: 'bold'}));\n",
              "    li.append(span(\n",
              "        `(${file.type || 'n/a'}) - ${file.size} bytes, ` +\n",
              "        `last modified: ${\n",
              "            file.lastModifiedDate ? file.lastModifiedDate.toLocaleDateString() :\n",
              "                                    'n/a'} - `));\n",
              "    const percent = span('0% done');\n",
              "    li.appendChild(percent);\n",
              "\n",
              "    outputElement.appendChild(li);\n",
              "\n",
              "    const fileDataPromise = new Promise((resolve) => {\n",
              "      const reader = new FileReader();\n",
              "      reader.onload = (e) => {\n",
              "        resolve(e.target.result);\n",
              "      };\n",
              "      reader.readAsArrayBuffer(file);\n",
              "    });\n",
              "    // Wait for the data to be ready.\n",
              "    let fileData = yield {\n",
              "      promise: fileDataPromise,\n",
              "      response: {\n",
              "        action: 'continue',\n",
              "      }\n",
              "    };\n",
              "\n",
              "    // Use a chunked sending to avoid message size limits. See b/62115660.\n",
              "    let position = 0;\n",
              "    do {\n",
              "      const length = Math.min(fileData.byteLength - position, MAX_PAYLOAD_SIZE);\n",
              "      const chunk = new Uint8Array(fileData, position, length);\n",
              "      position += length;\n",
              "\n",
              "      const base64 = btoa(String.fromCharCode.apply(null, chunk));\n",
              "      yield {\n",
              "        response: {\n",
              "          action: 'append',\n",
              "          file: file.name,\n",
              "          data: base64,\n",
              "        },\n",
              "      };\n",
              "\n",
              "      let percentDone = fileData.byteLength === 0 ?\n",
              "          100 :\n",
              "          Math.round((position / fileData.byteLength) * 100);\n",
              "      percent.textContent = `${percentDone}% done`;\n",
              "\n",
              "    } while (position < fileData.byteLength);\n",
              "  }\n",
              "\n",
              "  // All done.\n",
              "  yield {\n",
              "    response: {\n",
              "      action: 'complete',\n",
              "    }\n",
              "  };\n",
              "}\n",
              "\n",
              "scope.google = scope.google || {};\n",
              "scope.google.colab = scope.google.colab || {};\n",
              "scope.google.colab._files = {\n",
              "  _uploadFiles,\n",
              "  _uploadFilesContinue,\n",
              "};\n",
              "})(self);\n",
              "</script> "
            ]
          },
          "metadata": {}
        },
        {
          "output_type": "stream",
          "name": "stdout",
          "text": [
            "Saving datos_editados_18_05_versioninicial.csv to datos_editados_18_05_versioninicial.csv\n",
            "datos_editados_18_05_versioninicial.csv  sample_data\n",
            "Ruta del archivo: /content/datos_editados_18_05_versioninicial.csv\n"
          ]
        }
      ]
    },
    {
      "cell_type": "code",
      "source": [
        "datos_editados = pd.read_csv(\"datos_editados_18_05_versioninicial.csv\",encoding='latin1') # estos datos los hemos extraido de manera previa uniendo la variable \"4\"=\"CAOS\" para ver si tenían mas relacion"
      ],
      "metadata": {
        "id": "MFmVmVWaybV1"
      },
      "execution_count": 29,
      "outputs": []
    },
    {
      "cell_type": "code",
      "source": [
        "print(len(datos_editados)) #1013"
      ],
      "metadata": {
        "colab": {
          "base_uri": "https://localhost:8080/"
        },
        "id": "EnpyEFQffcch",
        "outputId": "9bb47eee-8637-4304-a654-d30176ec0389"
      },
      "execution_count": 30,
      "outputs": [
        {
          "output_type": "stream",
          "name": "stdout",
          "text": [
            "1013\n"
          ]
        }
      ]
    },
    {
      "cell_type": "code",
      "source": [
        "# En los datos de entrenamiento tendría que haber informacion suficiente para entrenar de todas las variables ( a destacar la variable 4 (CAOS))\n",
        "train_texts, test_texts, train_labels, test_labels = train_test_split(datos_editados['Frase'], datos_editados['Consensuada'], test_size=0.2, random_state=42,stratify=datos_editados['Consensuada'] )\n"
      ],
      "metadata": {
        "id": "tlzOBVq6ybYS"
      },
      "execution_count": 31,
      "outputs": []
    },
    {
      "cell_type": "code",
      "source": [
        "y = datos_editados.Consensuada"
      ],
      "metadata": {
        "id": "uISgx0pCybay"
      },
      "execution_count": 9,
      "outputs": []
    },
    {
      "cell_type": "code",
      "source": [
        "# RECUENTO POR CADA CLASE de la variable \"Consensuada\"\n",
        "unique, counts = np.unique(y, return_counts=True)\n",
        "for i in range(0,len(unique)):\n",
        "  print('Consensuada TOTAL %i: Samples %i' % (unique[i], counts[i]) )\n"
      ],
      "metadata": {
        "colab": {
          "base_uri": "https://localhost:8080/"
        },
        "id": "nU2_YcCkzHcm",
        "outputId": "82318816-e4a1-460c-8076-fcce722d71f0"
      },
      "execution_count": 32,
      "outputs": [
        {
          "output_type": "stream",
          "name": "stdout",
          "text": [
            "Consensuada TOTAL 0: Samples 209\n",
            "Consensuada TOTAL 1: Samples 186\n",
            "Consensuada TOTAL 2: Samples 276\n",
            "Consensuada TOTAL 3: Samples 184\n",
            "Consensuada TOTAL 4: Samples 92\n",
            "Consensuada TOTAL 5: Samples 41\n",
            "Consensuada TOTAL 6: Samples 25\n"
          ]
        }
      ]
    },
    {
      "cell_type": "code",
      "source": [
        "# RECUENTO EN LOS DATOS DE ENTRENAMIENTO\n",
        "unique, counts = np.unique(train_labels, return_counts=True)\n",
        "for i in range(0,len(unique)):\n",
        "  print('Consensuada TRAIN %i: Samples %i' % (unique[i], counts[i]) )\n"
      ],
      "metadata": {
        "colab": {
          "base_uri": "https://localhost:8080/"
        },
        "id": "navsDZktzHgt",
        "outputId": "84f15dad-2842-42dd-c26a-4ac694ad59f9"
      },
      "execution_count": 33,
      "outputs": [
        {
          "output_type": "stream",
          "name": "stdout",
          "text": [
            "Consensuada TRAIN 0: Samples 167\n",
            "Consensuada TRAIN 1: Samples 149\n",
            "Consensuada TRAIN 2: Samples 221\n",
            "Consensuada TRAIN 3: Samples 147\n",
            "Consensuada TRAIN 4: Samples 73\n",
            "Consensuada TRAIN 5: Samples 33\n",
            "Consensuada TRAIN 6: Samples 20\n"
          ]
        }
      ]
    },
    {
      "cell_type": "code",
      "source": [
        "# Veamos ahora el recuento en los DATOS DE TEST\n",
        "# Number of samples per class\n",
        "unique, counts = np.unique(test_labels, return_counts=True)\n",
        "for i in range(0,len(unique)):\n",
        "  print('Consensuada TEST %i: Samples %i' % (unique[i], counts[i]) )\n",
        "# efectivamente está mal porque"
      ],
      "metadata": {
        "colab": {
          "base_uri": "https://localhost:8080/"
        },
        "id": "ZnG4_9n7zHky",
        "outputId": "0bc36320-a86e-4b32-b15a-1c0baa0899aa"
      },
      "execution_count": 35,
      "outputs": [
        {
          "output_type": "stream",
          "name": "stdout",
          "text": [
            "Consensuada TEST 0: Samples 42\n",
            "Consensuada TEST 1: Samples 37\n",
            "Consensuada TEST 2: Samples 55\n",
            "Consensuada TEST 3: Samples 37\n",
            "Consensuada TEST 4: Samples 19\n",
            "Consensuada TEST 5: Samples 8\n",
            "Consensuada TEST 6: Samples 5\n"
          ]
        }
      ]
    },
    {
      "cell_type": "code",
      "source": [
        "!pip install transformers"
      ],
      "metadata": {
        "colab": {
          "base_uri": "https://localhost:8080/"
        },
        "id": "AH0MhseWzHpb",
        "outputId": "a5935085-50e5-439e-e89b-18efa2cb1fbb"
      },
      "execution_count": 36,
      "outputs": [
        {
          "output_type": "stream",
          "name": "stdout",
          "text": [
            "Requirement already satisfied: transformers in /usr/local/lib/python3.10/dist-packages (4.42.4)\n",
            "Requirement already satisfied: filelock in /usr/local/lib/python3.10/dist-packages (from transformers) (3.15.4)\n",
            "Requirement already satisfied: huggingface-hub<1.0,>=0.23.2 in /usr/local/lib/python3.10/dist-packages (from transformers) (0.23.5)\n",
            "Requirement already satisfied: numpy<2.0,>=1.17 in /usr/local/lib/python3.10/dist-packages (from transformers) (1.25.2)\n",
            "Requirement already satisfied: packaging>=20.0 in /usr/local/lib/python3.10/dist-packages (from transformers) (24.1)\n",
            "Requirement already satisfied: pyyaml>=5.1 in /usr/local/lib/python3.10/dist-packages (from transformers) (6.0.1)\n",
            "Requirement already satisfied: regex!=2019.12.17 in /usr/local/lib/python3.10/dist-packages (from transformers) (2024.5.15)\n",
            "Requirement already satisfied: requests in /usr/local/lib/python3.10/dist-packages (from transformers) (2.31.0)\n",
            "Requirement already satisfied: safetensors>=0.4.1 in /usr/local/lib/python3.10/dist-packages (from transformers) (0.4.3)\n",
            "Requirement already satisfied: tokenizers<0.20,>=0.19 in /usr/local/lib/python3.10/dist-packages (from transformers) (0.19.1)\n",
            "Requirement already satisfied: tqdm>=4.27 in /usr/local/lib/python3.10/dist-packages (from transformers) (4.66.4)\n",
            "Requirement already satisfied: fsspec>=2023.5.0 in /usr/local/lib/python3.10/dist-packages (from huggingface-hub<1.0,>=0.23.2->transformers) (2023.6.0)\n",
            "Requirement already satisfied: typing-extensions>=3.7.4.3 in /usr/local/lib/python3.10/dist-packages (from huggingface-hub<1.0,>=0.23.2->transformers) (4.12.2)\n",
            "Requirement already satisfied: charset-normalizer<4,>=2 in /usr/local/lib/python3.10/dist-packages (from requests->transformers) (3.3.2)\n",
            "Requirement already satisfied: idna<4,>=2.5 in /usr/local/lib/python3.10/dist-packages (from requests->transformers) (3.7)\n",
            "Requirement already satisfied: urllib3<3,>=1.21.1 in /usr/local/lib/python3.10/dist-packages (from requests->transformers) (2.0.7)\n",
            "Requirement already satisfied: certifi>=2017.4.17 in /usr/local/lib/python3.10/dist-packages (from requests->transformers) (2024.7.4)\n"
          ]
        }
      ]
    },
    {
      "cell_type": "code",
      "source": [
        "# Tokenización y creación de datasets\n",
        "train_encodings = tokenizer(train_texts.tolist(), truncation=True, padding=True) #,max_length=64)\n",
        "test_encodings = tokenizer(test_texts.tolist(), truncation=True, padding=True) #,max_length=64)"
      ],
      "metadata": {
        "id": "Ek4ma0DozHsG"
      },
      "execution_count": 37,
      "outputs": []
    },
    {
      "cell_type": "code",
      "source": [
        "train_labels = torch.tensor(train_labels.tolist()).to(device='cuda:0')\n",
        "test_labels = torch.tensor(test_labels.tolist()).to(device='cuda:0')"
      ],
      "metadata": {
        "id": "JLlbaiHtzWBM"
      },
      "execution_count": 38,
      "outputs": []
    },
    {
      "cell_type": "markdown",
      "source": [
        "## Convertimos ahora los datos a tensores de PyTorch"
      ],
      "metadata": {
        "id": "Tb4umHZSzpdY"
      }
    },
    {
      "cell_type": "code",
      "source": [
        "train_dataset = torch.utils.data.TensorDataset(\n",
        "    torch.tensor(train_encodings['input_ids']).to(device='cuda:0'),\n",
        "    torch.tensor(train_encodings['attention_mask']).to(device='cuda:0'),\n",
        "    train_labels\n",
        ")"
      ],
      "metadata": {
        "id": "ZaLpszn-zWEA"
      },
      "execution_count": 39,
      "outputs": []
    },
    {
      "cell_type": "code",
      "source": [
        "test_dataset = torch.utils.data.TensorDataset(\n",
        "    torch.tensor(test_encodings['input_ids']).to(device='cuda:0'),\n",
        "    torch.tensor(test_encodings['attention_mask']).to(device='cuda:0'),\n",
        "    test_labels\n",
        ")"
      ],
      "metadata": {
        "id": "5Zs22F2uzWGk"
      },
      "execution_count": 40,
      "outputs": []
    },
    {
      "cell_type": "markdown",
      "source": [
        "## Definimos el DataLoader para cargar los datos durante el entrenamiento"
      ],
      "metadata": {
        "id": "eV7kfJXLz3eZ"
      }
    },
    {
      "cell_type": "code",
      "source": [
        "# DataLoader\n",
        "train_dataloader = DataLoader(train_dataset, batch_size=32, shuffle=True)\n",
        "test_dataloader = DataLoader(test_dataset, batch_size=32)"
      ],
      "metadata": {
        "id": "uPNPUJ6yzHuO"
      },
      "execution_count": 41,
      "outputs": []
    },
    {
      "cell_type": "markdown",
      "source": [
        "## Optimizador y funcion de perdida"
      ],
      "metadata": {
        "id": "ZG3c9nygz_2x"
      }
    },
    {
      "cell_type": "code",
      "source": [
        "# optimizer = AdamW(model.parameters(), lr=5e-5)\n",
        "optimizer = AdamW(model.parameters(), lr=3e-5)\n",
        "criterion = torch.nn.CrossEntropyLoss()"
      ],
      "metadata": {
        "id": "BXaZT10lzHxE"
      },
      "execution_count": 42,
      "outputs": []
    },
    {
      "cell_type": "code",
      "source": [
        "training_loss = []\n",
        "training_accuracy = []\n",
        "\n",
        "for epoch in range(30):  # Cambia el número de épocas según necesites\n",
        "    model.train()\n",
        "    total_loss = 0\n",
        "    correct_predictions = 0\n",
        "    total_predictions = 0\n",
        "\n",
        "    for batch in train_dataloader:\n",
        "        input_ids, attention_mask, labels = batch\n",
        "        optimizer.zero_grad()\n",
        "        outputs = model(input_ids, attention_mask=attention_mask)\n",
        "        loss = criterion(outputs.logits, labels)\n",
        "        loss.backward()\n",
        "        optimizer.step()\n",
        "        total_loss += loss.item()\n",
        "\n",
        "        # Calcular las predicciones y la precisión\n",
        "        predictions = torch.argmax(outputs.logits, dim=1)\n",
        "        correct_predictions += (predictions == labels).sum().item()\n",
        "        total_predictions += len(labels)\n",
        "\n",
        "    # Calcular la precisión\n",
        "    train_accuracy = correct_predictions / total_predictions\n",
        "    training_loss.append(total_loss / len(train_dataloader))\n",
        "    training_accuracy.append(train_accuracy)\n",
        "\n",
        "    # Imprimir los resultados después de cada época\n",
        "    print(f\"Epoch {epoch + 1}\")\n",
        "    print(f\"Training Loss: {training_loss[-1]:.4f}, Training Accuracy: {train_accuracy:.4f}\")\n",
        "    print(\"-\" * 50)"
      ],
      "metadata": {
        "colab": {
          "base_uri": "https://localhost:8080/"
        },
        "id": "o-8ZtY5j8Cat",
        "outputId": "744b00db-1e64-4396-9cc7-46fb1141310a"
      },
      "execution_count": 43,
      "outputs": [
        {
          "output_type": "stream",
          "name": "stdout",
          "text": [
            "Epoch 1\n",
            "Training Loss: 1.4426, Training Accuracy: 0.4272\n",
            "--------------------------------------------------\n",
            "Epoch 2\n",
            "Training Loss: 1.0861, Training Accuracy: 0.6148\n",
            "--------------------------------------------------\n",
            "Epoch 3\n",
            "Training Loss: 0.7540, Training Accuracy: 0.7531\n",
            "--------------------------------------------------\n",
            "Epoch 4\n",
            "Training Loss: 0.4730, Training Accuracy: 0.8568\n",
            "--------------------------------------------------\n",
            "Epoch 5\n",
            "Training Loss: 0.2458, Training Accuracy: 0.9370\n",
            "--------------------------------------------------\n",
            "Epoch 6\n",
            "Training Loss: 0.1488, Training Accuracy: 0.9630\n",
            "--------------------------------------------------\n",
            "Epoch 7\n",
            "Training Loss: 0.1015, Training Accuracy: 0.9741\n",
            "--------------------------------------------------\n",
            "Epoch 8\n",
            "Training Loss: 0.0823, Training Accuracy: 0.9778\n",
            "--------------------------------------------------\n",
            "Epoch 9\n",
            "Training Loss: 0.0815, Training Accuracy: 0.9728\n",
            "--------------------------------------------------\n",
            "Epoch 10\n",
            "Training Loss: 0.0878, Training Accuracy: 0.9667\n",
            "--------------------------------------------------\n",
            "Epoch 11\n",
            "Training Loss: 0.0684, Training Accuracy: 0.9741\n",
            "--------------------------------------------------\n",
            "Epoch 12\n",
            "Training Loss: 0.0652, Training Accuracy: 0.9778\n",
            "--------------------------------------------------\n",
            "Epoch 13\n",
            "Training Loss: 0.0618, Training Accuracy: 0.9728\n",
            "--------------------------------------------------\n",
            "Epoch 14\n",
            "Training Loss: 0.0546, Training Accuracy: 0.9778\n",
            "--------------------------------------------------\n",
            "Epoch 15\n",
            "Training Loss: 0.0537, Training Accuracy: 0.9778\n",
            "--------------------------------------------------\n",
            "Epoch 16\n",
            "Training Loss: 0.0440, Training Accuracy: 0.9815\n",
            "--------------------------------------------------\n",
            "Epoch 17\n",
            "Training Loss: 0.0495, Training Accuracy: 0.9765\n",
            "--------------------------------------------------\n",
            "Epoch 18\n",
            "Training Loss: 0.0445, Training Accuracy: 0.9827\n",
            "--------------------------------------------------\n",
            "Epoch 19\n",
            "Training Loss: 0.0456, Training Accuracy: 0.9790\n",
            "--------------------------------------------------\n",
            "Epoch 20\n",
            "Training Loss: 0.0484, Training Accuracy: 0.9765\n",
            "--------------------------------------------------\n",
            "Epoch 21\n",
            "Training Loss: 0.0442, Training Accuracy: 0.9802\n",
            "--------------------------------------------------\n",
            "Epoch 22\n",
            "Training Loss: 0.0470, Training Accuracy: 0.9802\n",
            "--------------------------------------------------\n",
            "Epoch 23\n",
            "Training Loss: 0.0463, Training Accuracy: 0.9802\n",
            "--------------------------------------------------\n",
            "Epoch 24\n",
            "Training Loss: 0.0422, Training Accuracy: 0.9778\n",
            "--------------------------------------------------\n",
            "Epoch 25\n",
            "Training Loss: 0.0421, Training Accuracy: 0.9827\n",
            "--------------------------------------------------\n",
            "Epoch 26\n",
            "Training Loss: 0.0458, Training Accuracy: 0.9790\n",
            "--------------------------------------------------\n",
            "Epoch 27\n",
            "Training Loss: 0.0488, Training Accuracy: 0.9778\n",
            "--------------------------------------------------\n",
            "Epoch 28\n",
            "Training Loss: 0.0495, Training Accuracy: 0.9790\n",
            "--------------------------------------------------\n",
            "Epoch 29\n",
            "Training Loss: 0.0408, Training Accuracy: 0.9778\n",
            "--------------------------------------------------\n",
            "Epoch 30\n",
            "Training Loss: 0.0455, Training Accuracy: 0.9790\n",
            "--------------------------------------------------\n"
          ]
        }
      ]
    },
    {
      "cell_type": "markdown",
      "source": [
        "\n",
        "\n",
        "\n",
        "```\n",
        "# max_length = 512\n",
        "# lr = 2e-5\n",
        "# stratify=datos_editados['Consensuada']\n",
        "```\n",
        "\n"
      ],
      "metadata": {
        "id": "REOpO4AhmITk"
      }
    },
    {
      "cell_type": "code",
      "source": [
        "import matplotlib.pyplot as plt\n",
        "import seaborn as sns\n",
        "from sklearn.metrics import confusion_matrix\n",
        "\n",
        "# Listas para almacenar los resultados de entrenamiento y validación\n",
        "training_loss = []\n",
        "training_accuracy = []\n",
        "validation_loss = []\n",
        "validation_accuracy = []\n",
        "\n",
        "for epoch in range(30):  # Cambia el número de épocas según necesites\n",
        "    model.train()\n",
        "    total_loss = 0\n",
        "    correct_predictions = 0\n",
        "    total_predictions = 0\n",
        "\n",
        "    for batch in train_dataloader:\n",
        "        input_ids, attention_mask, labels = batch\n",
        "        optimizer.zero_grad()\n",
        "        outputs = model(input_ids, attention_mask=attention_mask)\n",
        "        loss = criterion(outputs.logits, labels)\n",
        "        loss.backward()\n",
        "        optimizer.step()\n",
        "        total_loss += loss.item()\n",
        "\n",
        "        # Calcular las predicciones y la precisión\n",
        "        predictions = torch.argmax(outputs.logits, dim=1)\n",
        "        correct_predictions += (predictions == labels).sum().item()\n",
        "        total_predictions += len(labels)\n",
        "\n",
        "    # Calcular la precisión\n",
        "    train_accuracy = correct_predictions / total_predictions\n",
        "    training_loss.append(total_loss / len(train_dataloader))\n",
        "    training_accuracy.append(train_accuracy)\n",
        "\n",
        "    # Evaluación en el conjunto de validación\n",
        "    model.eval()\n",
        "    total_val_loss = 0\n",
        "    correct_val_predictions = 0\n",
        "    total_val_predictions = 0\n",
        "\n",
        "    all_labels = []\n",
        "    all_predictions = []\n",
        "\n",
        "    with torch.no_grad():\n",
        "        for batch in test_dataloader:\n",
        "            input_ids, attention_mask, labels = batch\n",
        "            outputs = model(input_ids, attention_mask=attention_mask)\n",
        "            loss = criterion(outputs.logits, labels)\n",
        "            total_val_loss += loss.item()\n",
        "\n",
        "            # Calcular las predicciones y la precisión\n",
        "            predictions = torch.argmax(outputs.logits, dim=1)\n",
        "            correct_val_predictions += (predictions == labels).sum().item()\n",
        "            total_val_predictions += len(labels)\n",
        "\n",
        "            all_labels.extend(labels.cpu().numpy())\n",
        "            all_predictions.extend(predictions.cpu().numpy())\n",
        "\n",
        "    val_accuracy = correct_val_predictions / total_val_predictions\n",
        "    validation_loss.append(total_val_loss / len(test_dataloader))\n",
        "    validation_accuracy.append(val_accuracy)\n",
        "\n",
        "    # Imprimir los resultados después de cada época\n",
        "    print(f\"Epoch {epoch + 1}\")\n",
        "    print(f\"Training Loss: {training_loss[-1]:.4f}, Training Accuracy: {train_accuracy:.4f}\")\n",
        "    print(f\"Validation Loss: {validation_loss[-1]:.4f}, Validation Accuracy: {val_accuracy:.4f}\")\n",
        "    print(\"-\" * 50)\n",
        "\n",
        "# Calcular la matriz de confusión\n",
        "conf_matrix = confusion_matrix(all_labels, all_predictions)\n",
        "\n",
        "# Visualizar la matriz de confusión\n",
        "plt.figure(figsize=(10, 7))\n",
        "sns.heatmap(conf_matrix, annot=True, fmt='d', cmap='Blues')\n",
        "plt.xlabel('Predicted')\n",
        "plt.ylabel('True')\n",
        "plt.title('Confusion Matrix')\n",
        "plt.show()\n",
        "\n",
        "# Plot de la curva de pérdida y precisión\n",
        "plt.figure(figsize=(12, 5))\n",
        "\n",
        "# Gráfico de la pérdida\n",
        "plt.plot(range(1, 31), training_loss, label='Training Loss')\n",
        "plt.plot(range(1, 31), validation_loss, label='Validation Loss')\n",
        "plt.xlabel('Epochs')\n",
        "plt.ylabel('Loss')\n",
        "plt.title('Learning Curve - Loss')\n",
        "plt.legend\n",
        "plt.show()\n"
      ],
      "metadata": {
        "colab": {
          "base_uri": "https://localhost:8080/",
          "height": 1000
        },
        "id": "I41IDw0aUPvH",
        "outputId": "ef23e931-1d9d-4a7a-8eee-b5a82da6e6a2"
      },
      "execution_count": 51,
      "outputs": [
        {
          "output_type": "stream",
          "name": "stdout",
          "text": [
            "Epoch 1\n",
            "Training Loss: 0.0425, Training Accuracy: 0.9815\n",
            "Validation Loss: 2.0316, Validation Accuracy: 0.6749\n",
            "--------------------------------------------------\n",
            "Epoch 2\n",
            "Training Loss: 0.0368, Training Accuracy: 0.9790\n",
            "Validation Loss: 2.0323, Validation Accuracy: 0.6601\n",
            "--------------------------------------------------\n",
            "Epoch 3\n",
            "Training Loss: 0.0391, Training Accuracy: 0.9790\n",
            "Validation Loss: 2.0691, Validation Accuracy: 0.6552\n",
            "--------------------------------------------------\n",
            "Epoch 4\n",
            "Training Loss: 0.0344, Training Accuracy: 0.9815\n",
            "Validation Loss: 2.0644, Validation Accuracy: 0.6552\n",
            "--------------------------------------------------\n",
            "Epoch 5\n",
            "Training Loss: 0.0354, Training Accuracy: 0.9815\n",
            "Validation Loss: 2.0879, Validation Accuracy: 0.6552\n",
            "--------------------------------------------------\n",
            "Epoch 6\n",
            "Training Loss: 0.0352, Training Accuracy: 0.9815\n",
            "Validation Loss: 2.1064, Validation Accuracy: 0.6552\n",
            "--------------------------------------------------\n",
            "Epoch 7\n",
            "Training Loss: 0.0345, Training Accuracy: 0.9815\n",
            "Validation Loss: 2.0947, Validation Accuracy: 0.6552\n",
            "--------------------------------------------------\n",
            "Epoch 8\n",
            "Training Loss: 0.0398, Training Accuracy: 0.9815\n",
            "Validation Loss: 2.1044, Validation Accuracy: 0.6601\n",
            "--------------------------------------------------\n",
            "Epoch 9\n",
            "Training Loss: 0.0376, Training Accuracy: 0.9778\n",
            "Validation Loss: 2.0734, Validation Accuracy: 0.6650\n",
            "--------------------------------------------------\n",
            "Epoch 10\n",
            "Training Loss: 0.0346, Training Accuracy: 0.9827\n",
            "Validation Loss: 2.1059, Validation Accuracy: 0.6601\n",
            "--------------------------------------------------\n",
            "Epoch 11\n",
            "Training Loss: 0.0400, Training Accuracy: 0.9778\n",
            "Validation Loss: 2.1269, Validation Accuracy: 0.6552\n",
            "--------------------------------------------------\n",
            "Epoch 12\n",
            "Training Loss: 0.0344, Training Accuracy: 0.9815\n",
            "Validation Loss: 2.1285, Validation Accuracy: 0.6700\n",
            "--------------------------------------------------\n",
            "Epoch 13\n",
            "Training Loss: 0.0351, Training Accuracy: 0.9815\n",
            "Validation Loss: 2.1323, Validation Accuracy: 0.6700\n",
            "--------------------------------------------------\n",
            "Epoch 14\n",
            "Training Loss: 0.0366, Training Accuracy: 0.9802\n",
            "Validation Loss: 2.1146, Validation Accuracy: 0.6650\n",
            "--------------------------------------------------\n",
            "Epoch 15\n",
            "Training Loss: 0.0359, Training Accuracy: 0.9790\n",
            "Validation Loss: 2.1391, Validation Accuracy: 0.6700\n",
            "--------------------------------------------------\n",
            "Epoch 16\n",
            "Training Loss: 0.0339, Training Accuracy: 0.9840\n",
            "Validation Loss: 2.1421, Validation Accuracy: 0.6650\n",
            "--------------------------------------------------\n",
            "Epoch 17\n",
            "Training Loss: 0.0388, Training Accuracy: 0.9815\n",
            "Validation Loss: 2.1609, Validation Accuracy: 0.6601\n",
            "--------------------------------------------------\n",
            "Epoch 18\n",
            "Training Loss: 0.0364, Training Accuracy: 0.9778\n",
            "Validation Loss: 2.1550, Validation Accuracy: 0.6601\n",
            "--------------------------------------------------\n",
            "Epoch 19\n",
            "Training Loss: 0.0398, Training Accuracy: 0.9790\n",
            "Validation Loss: 2.1780, Validation Accuracy: 0.6552\n",
            "--------------------------------------------------\n",
            "Epoch 20\n",
            "Training Loss: 0.0388, Training Accuracy: 0.9790\n",
            "Validation Loss: 2.1397, Validation Accuracy: 0.6601\n",
            "--------------------------------------------------\n",
            "Epoch 21\n",
            "Training Loss: 0.0378, Training Accuracy: 0.9778\n",
            "Validation Loss: 2.0654, Validation Accuracy: 0.6650\n",
            "--------------------------------------------------\n",
            "Epoch 22\n",
            "Training Loss: 0.0374, Training Accuracy: 0.9827\n",
            "Validation Loss: 2.1291, Validation Accuracy: 0.6700\n",
            "--------------------------------------------------\n",
            "Epoch 23\n",
            "Training Loss: 0.0362, Training Accuracy: 0.9802\n",
            "Validation Loss: 2.1508, Validation Accuracy: 0.6650\n",
            "--------------------------------------------------\n",
            "Epoch 24\n",
            "Training Loss: 0.0363, Training Accuracy: 0.9815\n",
            "Validation Loss: 2.1437, Validation Accuracy: 0.6601\n",
            "--------------------------------------------------\n",
            "Epoch 25\n",
            "Training Loss: 0.0363, Training Accuracy: 0.9802\n",
            "Validation Loss: 2.1452, Validation Accuracy: 0.6700\n",
            "--------------------------------------------------\n",
            "Epoch 26\n",
            "Training Loss: 0.0356, Training Accuracy: 0.9852\n",
            "Validation Loss: 2.1529, Validation Accuracy: 0.6749\n",
            "--------------------------------------------------\n",
            "Epoch 27\n",
            "Training Loss: 0.0344, Training Accuracy: 0.9827\n",
            "Validation Loss: 2.1386, Validation Accuracy: 0.6749\n",
            "--------------------------------------------------\n",
            "Epoch 28\n",
            "Training Loss: 0.0387, Training Accuracy: 0.9802\n",
            "Validation Loss: 2.1629, Validation Accuracy: 0.6700\n",
            "--------------------------------------------------\n",
            "Epoch 29\n",
            "Training Loss: 0.0365, Training Accuracy: 0.9790\n",
            "Validation Loss: 2.1549, Validation Accuracy: 0.6700\n",
            "--------------------------------------------------\n",
            "Epoch 30\n",
            "Training Loss: 0.0341, Training Accuracy: 0.9753\n",
            "Validation Loss: 2.1444, Validation Accuracy: 0.6700\n",
            "--------------------------------------------------\n"
          ]
        },
        {
          "output_type": "display_data",
          "data": {
            "text/plain": [
              "<Figure size 1000x700 with 2 Axes>"
            ],
            "image/png": "[encoded data removed]"
          },
          "metadata": {}
        },
        {
          "output_type": "display_data",
          "data": {
            "text/plain": [
              "<Figure size 1200x500 with 1 Axes>"
            ],
            "image/png": "[encoded data removed]"
          },
          "metadata": {}
        }
      ]
    },
    {
      "cell_type": "code",
      "source": [
        "model.train()\n",
        "for epoch in range(40):  # Cambia el número de épocas según necesites\n",
        "    total_loss = 0\n",
        "    correct_predictions = 0\n",
        "    total_predictions = 0\n",
        "\n",
        "    for batch in train_dataloader:\n",
        "        input_ids, attention_mask, labels = batch\n",
        "        optimizer.zero_grad()\n",
        "        outputs = model(input_ids, attention_mask=attention_mask)\n",
        "        loss = criterion(outputs.logits, labels)\n",
        "        loss.backward()\n",
        "        optimizer.step()\n",
        "        total_loss += loss.item()\n",
        "\n",
        "        # Calcular las predicciones y la precisión\n",
        "        predictions = torch.argmax(outputs.logits, dim=1)\n",
        "        correct_predictions += (predictions == labels).sum().item()\n",
        "        total_predictions += len(labels)\n",
        "\n",
        "    # Calcular la precisión\n",
        "    accuracy = correct_predictions / total_predictions\n",
        "\n",
        "    # Imprimir los resultados después de cada época\n",
        "    print(f\"Epoch {epoch + 1}, Loss: {total_loss}, Accuracy: {accuracy}\")\n",
        "\n"
      ],
      "metadata": {
        "colab": {
          "base_uri": "https://localhost:8080/",
          "height": 211
        },
        "id": "FREsqUjxzHzk",
        "outputId": "4f412c69-eff6-48d2-a061-643f7285da71"
      },
      "execution_count": 44,
      "outputs": [
        {
          "output_type": "error",
          "ename": "KeyboardInterrupt",
          "evalue": "",
          "traceback": [
            "\u001b[0;31m---------------------------------------------------------------------------\u001b[0m",
            "\u001b[0;31mKeyboardInterrupt\u001b[0m                         Traceback (most recent call last)",
            "\u001b[0;32m<ipython-input-44-e1d0fc76bc68>\u001b[0m in \u001b[0;36m<cell line: 2>\u001b[0;34m()\u001b[0m\n\u001b[1;32m     12\u001b[0m         \u001b[0mloss\u001b[0m\u001b[0;34m.\u001b[0m\u001b[0mbackward\u001b[0m\u001b[0;34m(\u001b[0m\u001b[0;34m)\u001b[0m\u001b[0;34m\u001b[0m\u001b[0;34m\u001b[0m\u001b[0m\n\u001b[1;32m     13\u001b[0m         \u001b[0moptimizer\u001b[0m\u001b[0;34m.\u001b[0m\u001b[0mstep\u001b[0m\u001b[0;34m(\u001b[0m\u001b[0;34m)\u001b[0m\u001b[0;34m\u001b[0m\u001b[0;34m\u001b[0m\u001b[0m\n\u001b[0;32m---> 14\u001b[0;31m         \u001b[0mtotal_loss\u001b[0m \u001b[0;34m+=\u001b[0m \u001b[0mloss\u001b[0m\u001b[0;34m.\u001b[0m\u001b[0mitem\u001b[0m\u001b[0;34m(\u001b[0m\u001b[0;34m)\u001b[0m\u001b[0;34m\u001b[0m\u001b[0;34m\u001b[0m\u001b[0m\n\u001b[0m\u001b[1;32m     15\u001b[0m \u001b[0;34m\u001b[0m\u001b[0m\n\u001b[1;32m     16\u001b[0m         \u001b[0;31m# Calcular las predicciones y la precisión\u001b[0m\u001b[0;34m\u001b[0m\u001b[0;34m\u001b[0m\u001b[0m\n",
            "\u001b[0;31mKeyboardInterrupt\u001b[0m: "
          ]
        }
      ]
    },
    {
      "cell_type": "markdown",
      "source": [
        "## evaluacion del conjunto de pruebas"
      ],
      "metadata": {
        "id": "dWdDo9IC5ADr"
      }
    },
    {
      "cell_type": "code",
      "source": [
        "validation_loss = []\n",
        "validation_accuracy = []\n",
        "model.eval()\n",
        "    total_val_loss = 0\n",
        "    correct_val_predictions = 0\n",
        "    total_val_predictions = 0\n",
        "\n",
        "    with torch.no_grad():\n",
        "        for batch_idx, batch in enumerate(test_dataloader):\n",
        "            input_ids, attention_mask, labels = batch\n",
        "            # Asegurarse de que los datos estén en el mismo dispositivo que el modelo\n",
        "            input_ids = input_ids.to(model.device)\n",
        "            attention_mask = attention_mask.to(model.device)\n",
        "            labels = labels.to(model.device)\n",
        "\n",
        "            outputs = model(input_ids, attention_mask=attention_mask)\n",
        "            loss = criterion(outputs.logits, labels)\n",
        "            total_val_loss += loss.item()\n",
        "\n",
        "            predictions = torch.argmax(outputs.logits, dim=1)\n",
        "            correct_val_predictions += (predictions == labels).sum().item()\n",
        "            total_val_predictions += len(labels)\n"
      ],
      "metadata": {
        "colab": {
          "base_uri": "https://localhost:8080/",
          "height": 106
        },
        "id": "M1X4jHm2BgTB",
        "outputId": "226cf291-3925-4ea0-acf6-f2b14b7fa0e6"
      },
      "execution_count": 45,
      "outputs": [
        {
          "output_type": "error",
          "ename": "IndentationError",
          "evalue": "unexpected indent (<ipython-input-45-4ffdbbbeacaa>, line 4)",
          "traceback": [
            "\u001b[0;36m  File \u001b[0;32m\"<ipython-input-45-4ffdbbbeacaa>\"\u001b[0;36m, line \u001b[0;32m4\u001b[0m\n\u001b[0;31m    total_val_loss = 0\u001b[0m\n\u001b[0m    ^\u001b[0m\n\u001b[0;31mIndentationError\u001b[0m\u001b[0;31m:\u001b[0m unexpected indent\n"
          ]
        }
      ]
    },
    {
      "cell_type": "code",
      "source": [
        "# Evaluación del modelo\n",
        "model.eval()\n",
        "all_preds, all_labels = [], []\n",
        "with torch.no_grad():\n",
        "    for batch in test_dataloader:\n",
        "        input_ids, attention_mask, labels = batch\n",
        "        outputs = model(input_ids, attention_mask=attention_mask)\n",
        "        _, preds = torch.max(outputs.logits, dim=1)\n",
        "        all_preds.extend(preds.cpu().numpy())\n",
        "        all_labels.extend(labels.cpu().numpy())"
      ],
      "metadata": {
        "id": "qsiud2izybdX"
      },
      "execution_count": 46,
      "outputs": []
    },
    {
      "cell_type": "code",
      "source": [
        "import torch\n",
        "from sklearn.metrics import confusion_matrix, classification_report\n",
        "import matplotlib.pyplot as plt\n",
        "import seaborn as sns"
      ],
      "metadata": {
        "id": "CFBoTyLf5BkG"
      },
      "execution_count": null,
      "outputs": []
    },
    {
      "cell_type": "code",
      "source": [
        "# Calcular la matriz de confusión\n",
        "cm = confusion_matrix(all_labels, all_preds)\n",
        "class_names = ['SE', 'AA', 'E', 'CON','CA']\n"
      ],
      "metadata": {
        "id": "5pVG-jvs5Bm2",
        "colab": {
          "base_uri": "https://localhost:8080/",
          "height": 176
        },
        "outputId": "5df8caa1-be4d-4107-ad7f-610c7fd9e883"
      },
      "execution_count": 50,
      "outputs": [
        {
          "output_type": "error",
          "ename": "NameError",
          "evalue": "name 'confusion_matrix' is not defined",
          "traceback": [
            "\u001b[0;31m---------------------------------------------------------------------------\u001b[0m",
            "\u001b[0;31mNameError\u001b[0m                                 Traceback (most recent call last)",
            "\u001b[0;32m<ipython-input-50-812ec4def36a>\u001b[0m in \u001b[0;36m<cell line: 2>\u001b[0;34m()\u001b[0m\n\u001b[1;32m      1\u001b[0m \u001b[0;31m# Calcular la matriz de confusión\u001b[0m\u001b[0;34m\u001b[0m\u001b[0;34m\u001b[0m\u001b[0m\n\u001b[0;32m----> 2\u001b[0;31m \u001b[0mcm\u001b[0m \u001b[0;34m=\u001b[0m \u001b[0mconfusion_matrix\u001b[0m\u001b[0;34m(\u001b[0m\u001b[0mall_labels\u001b[0m\u001b[0;34m,\u001b[0m \u001b[0mall_preds\u001b[0m\u001b[0;34m)\u001b[0m\u001b[0;34m\u001b[0m\u001b[0;34m\u001b[0m\u001b[0m\n\u001b[0m\u001b[1;32m      3\u001b[0m \u001b[0mclass_names\u001b[0m \u001b[0;34m=\u001b[0m \u001b[0;34m[\u001b[0m\u001b[0;34m'SE'\u001b[0m\u001b[0;34m,\u001b[0m \u001b[0;34m'AA'\u001b[0m\u001b[0;34m,\u001b[0m \u001b[0;34m'E'\u001b[0m\u001b[0;34m,\u001b[0m \u001b[0;34m'CON'\u001b[0m\u001b[0;34m,\u001b[0m\u001b[0;34m'CA'\u001b[0m\u001b[0;34m]\u001b[0m\u001b[0;34m\u001b[0m\u001b[0;34m\u001b[0m\u001b[0m\n",
            "\u001b[0;31mNameError\u001b[0m: name 'confusion_matrix' is not defined"
          ]
        }
      ]
    },
    {
      "cell_type": "code",
      "source": [
        "# Impresión de métricas de evaluación\n",
        "report = classification_report(all_labels, all_preds)\n",
        "print(report)"
      ],
      "metadata": {
        "colab": {
          "base_uri": "https://localhost:8080/"
        },
        "id": "UaYTu_Ya5Bs2",
        "outputId": "6a2717a1-d523-4993-dc84-084025ac4f00"
      },
      "execution_count": null,
      "outputs": [
        {
          "output_type": "stream",
          "name": "stdout",
          "text": [
            "              precision    recall  f1-score   support\n",
            "\n",
            "           0       0.71      0.62      0.66        55\n",
            "           1       0.64      0.76      0.69        58\n",
            "           2       0.91      0.88      0.90        92\n",
            "           3       0.47      0.46      0.47        39\n",
            "           4       0.76      0.76      0.76        34\n",
            "\n",
            "    accuracy                           0.73       278\n",
            "   macro avg       0.70      0.70      0.70       278\n",
            "weighted avg       0.73      0.73      0.73       278\n",
            "\n"
          ]
        }
      ]
    },
    {
      "cell_type": "code",
      "source": [
        "# Visualizar la matriz de confusión\n",
        "plt.figure(figsize=(10, 7))\n",
        "sns.heatmap(cm, annot=True, fmt='d', cmap='Blues', xticklabels=class_names, yticklabels=class_names)\n",
        "plt.xlabel('Predicted')\n",
        "plt.ylabel('True')\n",
        "plt.title('Matriz de Confusión')\n",
        "plt.show()"
      ],
      "metadata": {
        "colab": {
          "base_uri": "https://localhost:8080/",
          "height": 641
        },
        "id": "nDpwkPJCybfv",
        "outputId": "4621f5fa-598e-4ffe-d766-298b3165da2e"
      },
      "execution_count": null,
      "outputs": [
        {
          "output_type": "display_data",
          "data": {
            "text/plain": [
              "<Figure size 1000x700 with 2 Axes>"
            ],
            "image/png": "[encoded data removed]"
          },
          "metadata": {}
        }
      ]
    },
    {
      "cell_type": "code",
      "source": [],
      "metadata": {
        "id": "t6kAguMvybi8"
      },
      "execution_count": null,
      "outputs": []
    }
  ]
}